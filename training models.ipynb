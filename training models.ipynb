{
 "cells": [
  {
   "cell_type": "code",
   "execution_count": 1,
   "metadata": {},
   "outputs": [],
   "source": [
    "import numpy as np\n",
    "import matplotlib.pyplot as plt"
   ]
  },
  {
   "cell_type": "code",
   "execution_count": 2,
   "metadata": {},
   "outputs": [],
   "source": [
    "#Create an array of the given shape and populate it with random samples from a uniform distribution over [0, 1).\n",
    "X = 2 * np.random.rand(100,1)\n",
    "#Guassain distribution\n",
    "y = 4 + 3 * X + np.random.randn(100,1)"
   ]
  },
  {
   "cell_type": "code",
   "execution_count": 7,
   "metadata": {},
   "outputs": [],
   "source": [
    "X_b = np.c_[np.ones((100,1)), X] # X with the bias added to it"
   ]
  },
  {
   "cell_type": "code",
   "execution_count": 12,
   "metadata": {},
   "outputs": [],
   "source": [
    "#best theta values using normal equation optimization\n",
    "best_theta = np.linalg.inv(X_b.T.dot(X_b)).dot(X_b.T).dot(y)"
   ]
  },
  {
   "cell_type": "code",
   "execution_count": 13,
   "metadata": {},
   "outputs": [
    {
     "data": {
      "text/plain": [
       "array([[4.19087684],\n",
       "       [2.9252539 ]])"
      ]
     },
     "execution_count": 13,
     "metadata": {},
     "output_type": "execute_result"
    }
   ],
   "source": [
    "best_theta"
   ]
  },
  {
   "cell_type": "code",
   "execution_count": 35,
   "metadata": {},
   "outputs": [],
   "source": [
    "#predictions\n",
    "X_new = np.array([[0],[2],[3]])"
   ]
  },
  {
   "cell_type": "code",
   "execution_count": 36,
   "metadata": {},
   "outputs": [
    {
     "data": {
      "text/plain": [
       "array([[0],\n",
       "       [2],\n",
       "       [3]])"
      ]
     },
     "execution_count": 36,
     "metadata": {},
     "output_type": "execute_result"
    }
   ],
   "source": [
    "X_new"
   ]
  },
  {
   "cell_type": "code",
   "execution_count": 38,
   "metadata": {},
   "outputs": [],
   "source": [
    "X_new_b = np.c_[np.ones((3,1)), X_new] # X with the bias added to it"
   ]
  },
  {
   "cell_type": "code",
   "execution_count": 39,
   "metadata": {},
   "outputs": [
    {
     "data": {
      "text/plain": [
       "array([[1., 0.],\n",
       "       [1., 2.],\n",
       "       [1., 3.]])"
      ]
     },
     "execution_count": 39,
     "metadata": {},
     "output_type": "execute_result"
    }
   ],
   "source": [
    "X_new_b"
   ]
  },
  {
   "cell_type": "code",
   "execution_count": 40,
   "metadata": {},
   "outputs": [],
   "source": [
    "y_predict = X_new_b.dot(best_theta)"
   ]
  },
  {
   "cell_type": "code",
   "execution_count": 41,
   "metadata": {},
   "outputs": [
    {
     "data": {
      "text/plain": [
       "array([[ 4.19087684],\n",
       "       [10.04138463],\n",
       "       [12.96663853]])"
      ]
     },
     "execution_count": 41,
     "metadata": {},
     "output_type": "execute_result"
    }
   ],
   "source": [
    "y_predict"
   ]
  },
  {
   "cell_type": "code",
   "execution_count": 45,
   "metadata": {},
   "outputs": [
    {
     "data": {
      "image/png": "[encoded data removed]",
      "text/plain": [
       "<Figure size 432x288 with 1 Axes>"
      ]
     },
     "metadata": {},
     "output_type": "display_data"
    }
   ],
   "source": [
    "plt.plot(X_new,y_predict,\"r-\")\n",
    "plt.plot(X,y,\"b.\")\n",
    "plt.axis([0,3,0,15])\n",
    "plt.show()"
   ]
  },
  {
   "cell_type": "code",
   "execution_count": 30,
   "metadata": {},
   "outputs": [
    {
     "data": {
      "text/plain": [
       "LinearRegression(copy_X=True, fit_intercept=True, n_jobs=1, normalize=False)"
      ]
     },
     "execution_count": 30,
     "metadata": {},
     "output_type": "execute_result"
    }
   ],
   "source": [
    "#sklearn code\n",
    "from sklearn.linear_model import LinearRegression\n",
    "lin_reg = LinearRegression()\n",
    "lin_reg.fit(X,y)"
   ]
  },
  {
   "cell_type": "code",
   "execution_count": 33,
   "metadata": {},
   "outputs": [
    {
     "data": {
      "text/plain": [
       "(array([4.19087684]), array([[2.9252539]]))"
      ]
     },
     "execution_count": 33,
     "metadata": {},
     "output_type": "execute_result"
    }
   ],
   "source": [
    "#best theta values using normal equation optimization\n",
    "lin_reg.intercept_, lin_reg.coef_"
   ]
  },
  {
   "cell_type": "code",
   "execution_count": 34,
   "metadata": {},
   "outputs": [
    {
     "data": {
      "text/plain": [
       "array([[ 4.19087684],\n",
       "       [10.04138463]])"
      ]
     },
     "execution_count": 34,
     "metadata": {},
     "output_type": "execute_result"
    }
   ],
   "source": [
    "lin_reg.predict(X_new)"
   ]
  },
  {
   "cell_type": "code",
   "execution_count": 49,
   "metadata": {},
   "outputs": [],
   "source": [
    "# Batch gradient descent optimization\n",
    "eta = 0.1 #learning rate\n",
    "n_iterations = 1000\n",
    "m = 100 #no. instances\n",
    "\n",
    "theta = np.random.randn(2,1) #random initialization\n",
    "\n",
    "for i in range(n_iterations):\n",
    "    gradients = 2/m * X_b.T.dot(X_b.dot(theta) - y)\n",
    "    theta = theta - eta * gradients"
   ]
  },
  {
   "cell_type": "code",
   "execution_count": 50,
   "metadata": {},
   "outputs": [
    {
     "data": {
      "text/plain": [
       "array([[4.19087684],\n",
       "       [2.9252539 ]])"
      ]
     },
     "execution_count": 50,
     "metadata": {},
     "output_type": "execute_result"
    }
   ],
   "source": [
    "theta"
   ]
  },
  {
   "cell_type": "code",
   "execution_count": 64,
   "metadata": {},
   "outputs": [],
   "source": [
    "#stochastic gradient descent with simple learning schedule\n",
    "n_epoches = 50\n",
    "t0, t1 = 5, 50 # learning schedule parameters\n",
    "\n",
    "def learning_schedule(t):\n",
    "    return t0 / (t + t1)\n",
    "\n",
    "theta = np.random.randn(2,1) #random initialization\n",
    "\n",
    "for epoche in range(n_epoches):\n",
    "    for i in range(m):\n",
    "        random_index = np.random.randint(m) #aometimes the instances are repeated because it generates the same number\n",
    "        #print(random_index)\n",
    "        xi = X_b[random_index:random_index+1]\n",
    "        #print(X_b[random_index:random_index+1])\n",
    "        #print(X_b[random_index])\n",
    "        yi = y[random_index:random_index+1]\n",
    "        gradients = 2 * xi.T.dot(xi.dot(theta) - yi)\n",
    "        eta = learning_schedule(epoche * m + i)\n",
    "        #print(eta)\n",
    "        theta = theta - eta * gradients"
   ]
  },
  {
   "cell_type": "code",
   "execution_count": 62,
   "metadata": {},
   "outputs": [
    {
     "data": {
      "text/plain": [
       "array([[4.1045701 ],\n",
       "       [2.96365059]])"
      ]
     },
     "execution_count": 62,
     "metadata": {},
     "output_type": "execute_result"
    }
   ],
   "source": [
    "theta"
   ]
  },
  {
   "cell_type": "code",
   "execution_count": 69,
   "metadata": {},
   "outputs": [
    {
     "name": "stdout",
     "output_type": "stream",
     "text": [
      "<class 'numpy.ndarray'>\n"
     ]
    }
   ],
   "source": [
    "print(type(y.ravel())) #Return a contiguous flattened array"
   ]
  },
  {
   "cell_type": "code",
   "execution_count": 75,
   "metadata": {},
   "outputs": [
    {
     "name": "stderr",
     "output_type": "stream",
     "text": [
      "/Users/fatma/anaconda2/envs/py35/lib/python3.5/site-packages/sklearn/linear_model/stochastic_gradient.py:117: DeprecationWarning: n_iter parameter is deprecated in 0.19 and will be removed in 0.21. Use max_iter and tol instead.\n",
      "  DeprecationWarning)\n"
     ]
    },
    {
     "data": {
      "text/plain": [
       "SGDRegressor(alpha=0.0001, average=False, epsilon=0.1, eta0=0.1,\n",
       "       fit_intercept=True, l1_ratio=0.15, learning_rate='invscaling',\n",
       "       loss='squared_loss', max_iter=None, n_iter=50, penalty=None,\n",
       "       power_t=0.25, random_state=None, shuffle=True, tol=None, verbose=0,\n",
       "       warm_start=False)"
      ]
     },
     "execution_count": 75,
     "metadata": {},
     "output_type": "execute_result"
    }
   ],
   "source": [
    "# SGD usinf sklearn\n",
    "from sklearn.linear_model import SGDRegressor\n",
    "sgd_reg = SGDRegressor(n_iter=50, penalty=None, eta0=0.1)\n",
    "sgd_reg.fit(X,y.ravel())"
   ]
  },
  {
   "cell_type": "code",
   "execution_count": 76,
   "metadata": {},
   "outputs": [
    {
     "data": {
      "text/plain": [
       "(array([4.19087684]), array([[2.9252539]]))"
      ]
     },
     "execution_count": 76,
     "metadata": {},
     "output_type": "execute_result"
    }
   ],
   "source": [
    "#best theta values using normal equation optimization\n",
    "lin_reg.intercept_, lin_reg.coef_"
   ]
  },
  {
   "cell_type": "code",
   "execution_count": 2,
   "metadata": {},
   "outputs": [],
   "source": [
    "# polynomial regression\n",
    "m = 100\n",
    "X = 6 * np.random.rand(m,1) - 3\n",
    "y = 0.5 * X**2 + X+2 + np.random.randn(m,1)"
   ]
  },
  {
   "cell_type": "code",
   "execution_count": 6,
   "metadata": {},
   "outputs": [],
   "source": [
    "#use sklearn to trnasform the features to a polynomial features \n",
    "from sklearn.preprocessing import PolynomialFeatures\n",
    "poly_features = PolynomialFeatures(degree=2, include_bias=False)\n",
    "X_poly = poly_features.fit_transform(X)"
   ]
  },
  {
   "cell_type": "code",
   "execution_count": 7,
   "metadata": {},
   "outputs": [
    {
     "data": {
      "text/plain": [
       "array([2.14534031])"
      ]
     },
     "execution_count": 7,
     "metadata": {},
     "output_type": "execute_result"
    }
   ],
   "source": [
    "X[0]"
   ]
  },
  {
   "cell_type": "code",
   "execution_count": 8,
   "metadata": {},
   "outputs": [
    {
     "data": {
      "text/plain": [
       "array([2.14534031, 4.60248505])"
      ]
     },
     "execution_count": 8,
     "metadata": {},
     "output_type": "execute_result"
    }
   ],
   "source": [
    "X_poly[0]"
   ]
  },
  {
   "cell_type": "code",
   "execution_count": 10,
   "metadata": {},
   "outputs": [
    {
     "data": {
      "text/plain": [
       "LinearRegression(copy_X=True, fit_intercept=True, n_jobs=1, normalize=False)"
      ]
     },
     "execution_count": 10,
     "metadata": {},
     "output_type": "execute_result"
    }
   ],
   "source": [
    "#sklearn code\n",
    "from sklearn.linear_model import LinearRegression\n",
    "lin_reg = LinearRegression()\n",
    "lin_reg.fit(X_poly,y)"
   ]
  },
  {
   "cell_type": "code",
   "execution_count": 12,
   "metadata": {},
   "outputs": [
    {
     "data": {
      "text/plain": [
       "(array([1.94045285]), array([[1.03596331, 0.54182474]]))"
      ]
     },
     "execution_count": 12,
     "metadata": {},
     "output_type": "execute_result"
    }
   ],
   "source": [
    "lin_reg.intercept_, lin_reg.coef_"
   ]
  },
  {
   "cell_type": "code",
   "execution_count": 58,
   "metadata": {},
   "outputs": [],
   "source": [
    "#learning curve\n",
    "from sklearn.metrics import mean_squared_error\n",
    "from sklearn.model_selection import train_test_split\n",
    "\n",
    "def plot_learning_curves(model, X, y):\n",
    "    X_train, X_val, y_train, y_val = train_test_split(X, y, test_size=0.2)\n",
    "    train_errors, val_errors = [], []\n",
    "    for m in range (1, len(X_train)):\n",
    "        model.fit(X_train[:m], y_train[:m])\n",
    "        y_train_predict = model.predict(X_train[:m])\n",
    "        y_val_predict = model.predict(X_val)\n",
    "        train_errors.append(mean_squared_error(y_train_predict[:m], y_train[:m]))\n",
    "        val_errors.append(mean_squared_error(y_val_predict, y_val))\n",
    "    plt.plot(np.sqrt(train_errors), \"r-+\", linewidth=2, label=\"train\")\n",
    "    plt.plot(np.sqrt(val_errors), \"b-\", linewidth=3, label=\"val\")\n",
    "    plt.plot(X,y,\"b.\")\n",
    "    plt.axis([0,80,0,3])\n",
    "    plt.legend()"
   ]
  },
  {
   "cell_type": "code",
   "execution_count": 61,
   "metadata": {},
   "outputs": [
    {
     "data": {
      "image/png": "[encoded data removed]",
      "text/plain": [
       "<Figure size 432x288 with 1 Axes>"
      ]
     },
     "metadata": {},
     "output_type": "display_data"
    }
   ],
   "source": [
    "lin_reg = LinearRegression()\n",
    "plot_learning_curves(lin_reg, X, y)"
   ]
  },
  {
   "cell_type": "code",
   "execution_count": 62,
   "metadata": {},
   "outputs": [
    {
     "data": {
      "image/png": "[encoded data removed]",
      "text/plain": [
       "<Figure size 432x288 with 1 Axes>"
      ]
     },
     "metadata": {},
     "output_type": "display_data"
    }
   ],
   "source": [
    "from sklearn.pipeline import Pipeline\n",
    "\n",
    "poly_regression = Pipeline((\n",
    "                           (\"poly_features\", PolynomialFeatures(degree=10, include_bias=False)),\n",
    "                           (\"sgd_reg\", LinearRegression()),\n",
    "                          ))\n",
    "\n",
    "plot_learning_curves(poly_regression, X, y)"
   ]
  },
  {
   "cell_type": "code",
   "execution_count": 67,
   "metadata": {},
   "outputs": [],
   "source": [
    "# logistic regression classififer\n",
    "from sklearn import datasets\n",
    "iris = datasets.load_iris()\n",
    "X = iris[\"data\"][:,3:]\n",
    "y = (iris[\"target\"] ==2).astype(np.int)"
   ]
  },
  {
   "cell_type": "code",
   "execution_count": 71,
   "metadata": {},
   "outputs": [
    {
     "data": {
      "text/plain": [
       "LogisticRegression(C=1.0, class_weight=None, dual=False, fit_intercept=True,\n",
       "          intercept_scaling=1, max_iter=100, multi_class='ovr', n_jobs=1,\n",
       "          penalty='l2', random_state=None, solver='liblinear', tol=0.0001,\n",
       "          verbose=0, warm_start=False)"
      ]
     },
     "execution_count": 71,
     "metadata": {},
     "output_type": "execute_result"
    }
   ],
   "source": [
    "from sklearn.linear_model import LogisticRegression\n",
    "\n",
    "log_reg = LogisticRegression()\n",
    "log_reg.fit(X, y)"
   ]
  },
  {
   "cell_type": "code",
   "execution_count": 72,
   "metadata": {},
   "outputs": [],
   "source": [
    "X_new = np.linspace(0, 3, 1000).reshape(-1, 1) #Return evenly spaced numbers over a specified interval."
   ]
  },
  {
   "cell_type": "code",
   "execution_count": 80,
   "metadata": {},
   "outputs": [
    {
     "data": {
      "text/plain": [
       "<matplotlib.legend.Legend at 0x1a1c9bbf28>"
      ]
     },
     "execution_count": 80,
     "metadata": {},
     "output_type": "execute_result"
    },
    {
     "data": {
      "image/png": "[encoded data removed]",
      "text/plain": [
       "<Figure size 432x288 with 1 Axes>"
      ]
     },
     "metadata": {},
     "output_type": "display_data"
    }
   ],
   "source": [
    "y_prob = log_reg.predict_proba(X_new)\n",
    "plt.plot(X_new, y_prob[:, 1],\"g-\", label=\"Iris\")\n",
    "plt.plot(X_new, y_prob[:, 0],\"b--\", label=\"not Iris\")\n",
    "plt.legend()"
   ]
  },
  {
   "cell_type": "code",
   "execution_count": 79,
   "metadata": {},
   "outputs": [
    {
     "data": {
      "text/plain": [
       "array([0.01447236, 0.01458489, 0.01469829, 0.01481255, 0.01492768,\n",
       "       0.0150437 , 0.01516061, 0.01527841, 0.01539711, 0.01551671,\n",
       "       0.01563724, 0.01575868, 0.01588105, 0.01600436, 0.01612861,\n",
       "       0.0162538 , 0.01637996, 0.01650707, 0.01663516, 0.01676422,\n",
       "       0.01689426, 0.0170253 , 0.01715734, 0.01729038, 0.01742443,\n",
       "       0.01755951, 0.01769561, 0.01783275, 0.01797094, 0.01811017,\n",
       "       0.01825047, 0.01839183, 0.01853426, 0.01867778, 0.01882238,\n",
       "       0.01896809, 0.0191149 , 0.01926282, 0.01941186, 0.01956204,\n",
       "       0.01971336, 0.01986582, 0.02001943, 0.02017421, 0.02033016,\n",
       "       0.0204873 , 0.02064562, 0.02080514, 0.02096586, 0.0211278 ,\n",
       "       0.02129096, 0.02145536, 0.02162099, 0.02178788, 0.02195603,\n",
       "       0.02212544, 0.02229613, 0.02246811, 0.02264139, 0.02281596,\n",
       "       0.02299186, 0.02316908, 0.02334763, 0.02352752, 0.02370877,\n",
       "       0.02389138, 0.02407536, 0.02426072, 0.02444747, 0.02463562,\n",
       "       0.02482519, 0.02501618, 0.02520859, 0.02540245, 0.02559777,\n",
       "       0.02579454, 0.02599278, 0.02619251, 0.02639373, 0.02659646,\n",
       "       0.0268007 , 0.02700646, 0.02721376, 0.02742261, 0.02763301,\n",
       "       0.02784498, 0.02805853, 0.02827367, 0.02849042, 0.02870877,\n",
       "       0.02892875, 0.02915036, 0.02937362, 0.02959854, 0.02982512,\n",
       "       0.03005339, 0.03028335, 0.03051501, 0.03074839, 0.0309835 ,\n",
       "       0.03122035, 0.03145895, 0.03169931, 0.03194145, 0.03218538,\n",
       "       0.03243111, 0.03267865, 0.03292801, 0.03317921, 0.03343227,\n",
       "       0.03368718, 0.03394397, 0.03420265, 0.03446323, 0.03472573,\n",
       "       0.03499015, 0.03525651, 0.03552483, 0.03579511, 0.03606737,\n",
       "       0.03634162, 0.03661788, 0.03689616, 0.03717647, 0.03745883,\n",
       "       0.03774325, 0.03802974, 0.03831832, 0.038609  , 0.0389018 ,\n",
       "       0.03919673, 0.0394938 , 0.03979304, 0.04009444, 0.04039803,\n",
       "       0.04070382, 0.04101183, 0.04132207, 0.04163455, 0.0419493 ,\n",
       "       0.04226631, 0.04258562, 0.04290723, 0.04323116, 0.04355742,\n",
       "       0.04388604, 0.04421701, 0.04455037, 0.04488613, 0.04522429,\n",
       "       0.04556488, 0.04590791, 0.0462534 , 0.04660136, 0.04695181,\n",
       "       0.04730477, 0.04766024, 0.04801826, 0.04837882, 0.04874195,\n",
       "       0.04910767, 0.04947599, 0.04984693, 0.0502205 , 0.05059673,\n",
       "       0.05097562, 0.05135719, 0.05174147, 0.05212846, 0.05251818,\n",
       "       0.05291066, 0.05330591, 0.05370394, 0.05410477, 0.05450842,\n",
       "       0.05491491, 0.05532425, 0.05573646, 0.05615156, 0.05656957,\n",
       "       0.05699051, 0.05741438, 0.05784121, 0.05827102, 0.05870383,\n",
       "       0.05913965, 0.05957849, 0.06002039, 0.06046536, 0.06091341,\n",
       "       0.06136456, 0.06181883, 0.06227625, 0.06273682, 0.06320057,\n",
       "       0.06366751, 0.06413767, 0.06461106, 0.0650877 , 0.06556761,\n",
       "       0.06605081, 0.06653731, 0.06702715, 0.06752032, 0.06801687,\n",
       "       0.06851679, 0.06902012, 0.06952687, 0.07003706, 0.07055071,\n",
       "       0.07106784, 0.07158846, 0.07211261, 0.07264029, 0.07317153,\n",
       "       0.07370635, 0.07424476, 0.07478678, 0.07533245, 0.07588176,\n",
       "       0.07643476, 0.07699144, 0.07755184, 0.07811597, 0.07868386,\n",
       "       0.07925552, 0.07983098, 0.08041024, 0.08099334, 0.0815803 ,\n",
       "       0.08217112, 0.08276584, 0.08336448, 0.08396705, 0.08457357,\n",
       "       0.08518406, 0.08579855, 0.08641705, 0.08703959, 0.08766618,\n",
       "       0.08829684, 0.0889316 , 0.08957048, 0.09021349, 0.09086066,\n",
       "       0.091512  , 0.09216753, 0.09282729, 0.09349128, 0.09415952,\n",
       "       0.09483204, 0.09550886, 0.09619   , 0.09687547, 0.09756531,\n",
       "       0.09825951, 0.09895812, 0.09966115, 0.10036861, 0.10108053,\n",
       "       0.10179693, 0.10251783, 0.10324325, 0.1039732 , 0.10470771,\n",
       "       0.10544681, 0.1061905 , 0.1069388 , 0.10769175, 0.10844935,\n",
       "       0.10921163, 0.10997861, 0.11075031, 0.11152674, 0.11230792,\n",
       "       0.11309388, 0.11388464, 0.11468021, 0.11548062, 0.11628587,\n",
       "       0.117096  , 0.11791102, 0.11873095, 0.11955581, 0.12038561,\n",
       "       0.12122038, 0.12206014, 0.1229049 , 0.12375469, 0.12460951,\n",
       "       0.12546939, 0.12633436, 0.12720441, 0.12807958, 0.12895988,\n",
       "       0.12984533, 0.13073595, 0.13163176, 0.13253276, 0.13343898,\n",
       "       0.13435045, 0.13526716, 0.13618915, 0.13711642, 0.138049  ,\n",
       "       0.1389869 , 0.13993014, 0.14087873, 0.14183269, 0.14279204,\n",
       "       0.14375679, 0.14472695, 0.14570255, 0.1466836 , 0.14767012,\n",
       "       0.14866211, 0.14965959, 0.15066259, 0.1516711 , 0.15268516,\n",
       "       0.15370476, 0.15472993, 0.15576068, 0.15679703, 0.15783898,\n",
       "       0.15888654, 0.15993974, 0.16099859, 0.16206309, 0.16313326,\n",
       "       0.16420912, 0.16529067, 0.16637792, 0.16747089, 0.16856959,\n",
       "       0.16967403, 0.17078422, 0.17190016, 0.17302188, 0.17414938,\n",
       "       0.17528267, 0.17642176, 0.17756665, 0.17871737, 0.17987391,\n",
       "       0.18103628, 0.1822045 , 0.18337857, 0.18455849, 0.18574429,\n",
       "       0.18693595, 0.18813349, 0.18933692, 0.19054624, 0.19176145,\n",
       "       0.19298257, 0.1942096 , 0.19544253, 0.19668139, 0.19792616,\n",
       "       0.19917686, 0.20043349, 0.20169605, 0.20296455, 0.20423898,\n",
       "       0.20551935, 0.20680566, 0.20809791, 0.20939611, 0.21070024,\n",
       "       0.21201033, 0.21332636, 0.21464833, 0.21597624, 0.2173101 ,\n",
       "       0.2186499 , 0.21999563, 0.2213473 , 0.22270491, 0.22406844,\n",
       "       0.22543791, 0.22681329, 0.2281946 , 0.22958182, 0.23097495,\n",
       "       0.23237398, 0.23377891, 0.23518974, 0.23660644, 0.23802903,\n",
       "       0.23945748, 0.2408918 , 0.24233197, 0.24377799, 0.24522985,\n",
       "       0.24668752, 0.24815102, 0.24962032, 0.25109541, 0.25257629,\n",
       "       0.25406294, 0.25555535, 0.2570535 , 0.25855738, 0.26006699,\n",
       "       0.26158229, 0.26310329, 0.26462996, 0.26616229, 0.26770026,\n",
       "       0.26924386, 0.27079307, 0.27234787, 0.27390825, 0.27547418,\n",
       "       0.27704565, 0.27862263, 0.28020511, 0.28179307, 0.28338648,\n",
       "       0.28498533, 0.2865896 , 0.28819925, 0.28981427, 0.29143464,\n",
       "       0.29306032, 0.29469131, 0.29632756, 0.29796907, 0.29961579,\n",
       "       0.30126771, 0.3029248 , 0.30458703, 0.30625437, 0.3079268 ,\n",
       "       0.30960429, 0.3112868 , 0.31297431, 0.31466679, 0.31636421,\n",
       "       0.31806654, 0.31977374, 0.32148579, 0.32320264, 0.32492428,\n",
       "       0.32665065, 0.32838174, 0.33011751, 0.33185792, 0.33360293,\n",
       "       0.33535251, 0.33710663, 0.33886524, 0.34062832, 0.34239582,\n",
       "       0.3441677 , 0.34594393, 0.34772446, 0.34950926, 0.35129829,\n",
       "       0.3530915 , 0.35488886, 0.35669033, 0.35849586, 0.3603054 ,\n",
       "       0.36211893, 0.36393639, 0.36575775, 0.36758295, 0.36941195,\n",
       "       0.37124471, 0.37308119, 0.37492133, 0.37676509, 0.37861243,\n",
       "       0.3804633 , 0.38231765, 0.38417543, 0.3860366 , 0.3879011 ,\n",
       "       0.38976889, 0.39163993, 0.39351415, 0.39539151, 0.39727196,\n",
       "       0.39915545, 0.40104193, 0.40293135, 0.40482365, 0.40671878,\n",
       "       0.4086167 , 0.41051734, 0.41242066, 0.4143266 , 0.41623511,\n",
       "       0.41814613, 0.42005961, 0.4219755 , 0.42389375, 0.42581428,\n",
       "       0.42773706, 0.42966203, 0.43158912, 0.43351829, 0.43544947,\n",
       "       0.43738261, 0.43931766, 0.44125456, 0.44319324, 0.44513366,\n",
       "       0.44707575, 0.44901946, 0.45096472, 0.45291149, 0.45485969,\n",
       "       0.45680928, 0.4587602 , 0.46071238, 0.46266576, 0.46462029,\n",
       "       0.46657591, 0.46853256, 0.47049017, 0.47244869, 0.47440807,\n",
       "       0.47636823, 0.47832911, 0.48029067, 0.48225283, 0.48421555,\n",
       "       0.48617874, 0.48814237, 0.49010636, 0.49207066, 0.4940352 ,\n",
       "       0.49599992, 0.49796477, 0.49992968, 0.5018946 , 0.50385945,\n",
       "       0.50582419, 0.50778875, 0.50975306, 0.51171708, 0.51368073,\n",
       "       0.51564396, 0.51760671, 0.51956892, 0.52153052, 0.52349146,\n",
       "       0.52545167, 0.5274111 , 0.52936969, 0.53132737, 0.53328408,\n",
       "       0.53523978, 0.53719439, 0.53914786, 0.54110013, 0.54305113,\n",
       "       0.54500082, 0.54694913, 0.548896  , 0.55084137, 0.55278519,\n",
       "       0.5547274 , 0.55666794, 0.55860675, 0.56054377, 0.56247896,\n",
       "       0.56441224, 0.56634356, 0.56827288, 0.57020012, 0.57212524,\n",
       "       0.57404818, 0.57596888, 0.57788728, 0.57980334, 0.581717  ,\n",
       "       0.5836282 , 0.58553689, 0.58744302, 0.58934653, 0.59124736,\n",
       "       0.59314548, 0.59504081, 0.59693332, 0.59882294, 0.60070963,\n",
       "       0.60259334, 0.60447401, 0.60635159, 0.60822604, 0.6100973 ,\n",
       "       0.61196533, 0.61383007, 0.61569148, 0.6175495 , 0.6194041 ,\n",
       "       0.62125522, 0.62310281, 0.62494683, 0.62678724, 0.62862397,\n",
       "       0.630457  , 0.63228628, 0.63411175, 0.63593338, 0.63775112,\n",
       "       0.63956493, 0.64137477, 0.64318058, 0.64498234, 0.64678   ,\n",
       "       0.64857351, 0.65036284, 0.65214794, 0.65392878, 0.65570532,\n",
       "       0.65747751, 0.65924533, 0.66100872, 0.66276765, 0.66452209,\n",
       "       0.666272  , 0.66801735, 0.66975808, 0.67149418, 0.67322561,\n",
       "       0.67495232, 0.6766743 , 0.6783915 , 0.68010389, 0.68181144,\n",
       "       0.68351411, 0.68521188, 0.68690472, 0.68859259, 0.69027546,\n",
       "       0.69195331, 0.6936261 , 0.69529381, 0.69695641, 0.69861386,\n",
       "       0.70026615, 0.70191325, 0.70355513, 0.70519176, 0.70682312,\n",
       "       0.70844919, 0.71006994, 0.71168534, 0.71329538, 0.71490003,\n",
       "       0.71649927, 0.71809307, 0.71968142, 0.72126429, 0.72284167,\n",
       "       0.72441353, 0.72597986, 0.72754063, 0.72909583, 0.73064544,\n",
       "       0.73218945, 0.73372782, 0.73526056, 0.73678763, 0.73830904,\n",
       "       0.73982475, 0.74133476, 0.74283906, 0.74433762, 0.74583044,\n",
       "       0.7473175 , 0.74879879, 0.7502743 , 0.75174402, 0.75320793,\n",
       "       0.75466602, 0.75611829, 0.75756473, 0.75900532, 0.76044006,\n",
       "       0.76186893, 0.76329194, 0.76470907, 0.76612031, 0.76752566,\n",
       "       0.76892512, 0.77031867, 0.77170631, 0.77308804, 0.77446385,\n",
       "       0.77583374, 0.7771977 , 0.77855573, 0.77990783, 0.78125399,\n",
       "       0.78259421, 0.78392849, 0.78525683, 0.78657923, 0.78789568,\n",
       "       0.78920619, 0.79051075, 0.79180937, 0.79310205, 0.79438879,\n",
       "       0.79566958, 0.79694444, 0.79821336, 0.79947634, 0.80073339,\n",
       "       0.80198452, 0.80322972, 0.804469  , 0.80570236, 0.80692981,\n",
       "       0.80815135, 0.80936699, 0.81057673, 0.81178057, 0.81297854,\n",
       "       0.81417062, 0.81535683, 0.81653718, 0.81771167, 0.8188803 ,\n",
       "       0.82004309, 0.82120005, 0.82235118, 0.8234965 , 0.824636  ,\n",
       "       0.8257697 , 0.82689762, 0.82801975, 0.82913611, 0.83024671,\n",
       "       0.83135156, 0.83245066, 0.83354404, 0.83463171, 0.83571366,\n",
       "       0.83678993, 0.8378605 , 0.83892541, 0.83998466, 0.84103827,\n",
       "       0.84208624, 0.84312859, 0.84416533, 0.84519648, 0.84622205,\n",
       "       0.84724205, 0.8482565 , 0.84926542, 0.85026881, 0.85126668,\n",
       "       0.85225907, 0.85324597, 0.85422741, 0.8552034 , 0.85617396,\n",
       "       0.85713909, 0.85809883, 0.85905317, 0.86000215, 0.86094577,\n",
       "       0.86188405, 0.86281701, 0.86374466, 0.86466703, 0.86558412,\n",
       "       0.86649596, 0.86740255, 0.86830393, 0.86920011, 0.8700911 ,\n",
       "       0.87097692, 0.87185759, 0.87273312, 0.87360354, 0.87446887,\n",
       "       0.87532911, 0.8761843 , 0.87703444, 0.87787956, 0.87871968,\n",
       "       0.87955481, 0.88038497, 0.88121018, 0.88203046, 0.88284583,\n",
       "       0.88365631, 0.88446191, 0.88526266, 0.88605858, 0.88684968,\n",
       "       0.88763598, 0.88841751, 0.88919428, 0.88996632, 0.89073363,\n",
       "       0.89149625, 0.89225418, 0.89300746, 0.8937561 , 0.89450012,\n",
       "       0.89523954, 0.89597438, 0.89670466, 0.8974304 , 0.89815162,\n",
       "       0.89886834, 0.89958059, 0.90028837, 0.90099171, 0.90169063,\n",
       "       0.90238516, 0.9030753 , 0.90376109, 0.90444253, 0.90511966,\n",
       "       0.90579249, 0.90646104, 0.90712533, 0.90778539, 0.90844123,\n",
       "       0.90909287, 0.90974033, 0.91038364, 0.91102281, 0.91165786,\n",
       "       0.91228882, 0.9129157 , 0.91353853, 0.91415732, 0.91477209,\n",
       "       0.91538287, 0.91598968, 0.91659253, 0.91719144, 0.91778644,\n",
       "       0.91837755, 0.91896478, 0.91954815, 0.92012769, 0.92070342,\n",
       "       0.92127535, 0.92184351, 0.92240791, 0.92296857, 0.92352553,\n",
       "       0.92407878, 0.92462836, 0.92517428, 0.92571657, 0.92625524,\n",
       "       0.92679031, 0.92732181, 0.92784974, 0.92837414, 0.92889502,\n",
       "       0.9294124 , 0.9299263 , 0.93043673, 0.93094373, 0.9314473 ,\n",
       "       0.93194747, 0.93244425, 0.93293767, 0.93342774, 0.93391448,\n",
       "       0.93439792, 0.93487806, 0.93535494, 0.93582856, 0.93629895,\n",
       "       0.93676612, 0.9372301 , 0.9376909 , 0.93814854, 0.93860303,\n",
       "       0.93905441, 0.93950268, 0.93994786, 0.94038998, 0.94082905,\n",
       "       0.94126508, 0.9416981 , 0.94212812, 0.94255517, 0.94297926,\n",
       "       0.9434004 , 0.94381861, 0.94423392, 0.94464634, 0.94505589,\n",
       "       0.94546258, 0.94586644, 0.94626747, 0.9466657 , 0.94706114,\n",
       "       0.94745382, 0.94784374, 0.94823093, 0.9486154 , 0.94899716,\n",
       "       0.94937624, 0.94975266, 0.95012642, 0.95049754, 0.95086605,\n",
       "       0.95123196, 0.95159528, 0.95195602, 0.95231422, 0.95266988,\n",
       "       0.95302301, 0.95337364, 0.95372178, 0.95406744, 0.95441065,\n",
       "       0.95475142, 0.95508975, 0.95542568, 0.95575921, 0.95609035,\n",
       "       0.95641914, 0.95674557, 0.95706966, 0.95739144, 0.95771091,\n",
       "       0.95802809, 0.958343  , 0.95865564, 0.95896604, 0.95927421,\n",
       "       0.95958016, 0.9598839 , 0.96018546, 0.96048485, 0.96078208,\n",
       "       0.96107716, 0.96137011, 0.96166095, 0.96194968, 0.96223632,\n",
       "       0.96252089, 0.96280339, 0.96308385, 0.96336227, 0.96363868,\n",
       "       0.96391307, 0.96418547, 0.9644559 , 0.96472435, 0.96499085,\n",
       "       0.96525541, 0.96551804, 0.96577876, 0.96603757, 0.9662945 ,\n",
       "       0.96654955, 0.96680274, 0.96705407, 0.96730357, 0.96755124,\n",
       "       0.9677971 , 0.96804115, 0.96828342, 0.96852391, 0.96876263,\n",
       "       0.96899961, 0.96923484, 0.96946834, 0.96970013, 0.96993021,\n",
       "       0.9701586 , 0.9703853 , 0.97061034, 0.97083372, 0.97105545,\n",
       "       0.97127554, 0.97149401, 0.97171087, 0.97192612, 0.97213979,\n",
       "       0.97235187, 0.97256239, 0.97277134, 0.97297875, 0.97318463,\n",
       "       0.97338897, 0.97359181, 0.97379314, 0.97399297, 0.97419132])"
      ]
     },
     "execution_count": 79,
     "metadata": {},
     "output_type": "execute_result"
    }
   ],
   "source": [
    "plt.plot(X_new, y_prob[:, 0],\"b--\", label=\"not Iris\")"
   ]
  },
  {
   "cell_type": "code",
   "execution_count": 2,
   "metadata": {},
   "outputs": [],
   "source": [
    "#Softmax regression\n",
    "from sklearn import datasets\n",
    "from sklearn.linear_model import LogisticRegression\n",
    "\n",
    "iris = datasets.load_iris()"
   ]
  },
  {
   "cell_type": "code",
   "execution_count": 4,
   "metadata": {},
   "outputs": [
    {
     "data": {
      "text/plain": [
       "LogisticRegression(C=10, class_weight=None, dual=False, fit_intercept=True,\n",
       "          intercept_scaling=1, max_iter=100, multi_class='multinomial',\n",
       "          n_jobs=1, penalty='l2', random_state=None, solver='lbfgs',\n",
       "          tol=0.0001, verbose=0, warm_start=False)"
      ]
     },
     "execution_count": 4,
     "metadata": {},
     "output_type": "execute_result"
    }
   ],
   "source": [
    "X = iris[\"data\"][:,(2,3)] #two features petal length and petal width\n",
    "y = iris[\"target\"]\n",
    "\n",
    "softmax_reg = LogisticRegression(multi_class=\"multinomial\", solver=\"lbfgs\", C=10)\n",
    "softmax_reg.fit(X, y)"
   ]
  },
  {
   "cell_type": "code",
   "execution_count": 5,
   "metadata": {},
   "outputs": [
    {
     "data": {
      "text/plain": [
       "array([2])"
      ]
     },
     "execution_count": 5,
     "metadata": {},
     "output_type": "execute_result"
    }
   ],
   "source": [
    "softmax_reg.predict([[5, 2]])"
   ]
  },
  {
   "cell_type": "code",
   "execution_count": 6,
   "metadata": {},
   "outputs": [
    {
     "data": {
      "text/plain": [
       "array([[6.33134077e-07, 5.75276067e-02, 9.42471760e-01]])"
      ]
     },
     "execution_count": 6,
     "metadata": {},
     "output_type": "execute_result"
    }
   ],
   "source": [
    "softmax_reg.predict_proba([[5, 2]])"
   ]
  },
  {
   "cell_type": "code",
   "execution_count": null,
   "metadata": {},
   "outputs": [],
   "source": [
    "s"
   ]
  }
 ],
 "metadata": {
  "kernelspec": {
   "display_name": "Python 3",
   "language": "python",
   "name": "python3"
  },
  "language_info": {
   "codemirror_mode": {
    "name": "ipython",
    "version": 3
   },
   "file_extension": ".py",
   "mimetype": "text/x-python",
   "name": "python",
   "nbconvert_exporter": "python",
   "pygments_lexer": "ipython3",
   "version": "3.5.3"
  }
 },
 "nbformat": 4,
 "nbformat_minor": 2
}
