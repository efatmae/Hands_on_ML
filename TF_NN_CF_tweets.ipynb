{
 "cells": [
  {
   "cell_type": "code",
   "execution_count": 1,
   "metadata": {},
   "outputs": [
    {
     "name": "stdout",
     "output_type": "stream",
     "text": [
      "[nltk_data] Downloading package stopwords to /Users/fatma/nltk_data...\n",
      "[nltk_data]   Package stopwords is already up-to-date!\n"
     ]
    }
   ],
   "source": [
    "import nltk\n",
    "nltk.download('stopwords')\n",
    "from nltk.stem.lancaster import LancasterStemmer\n",
    "from nltk.corpus import stopwords\n",
    "import re\n",
    "import pandas as pd\n",
    "import numpy as np\n",
    "import tensorflow as tf\n",
    "import random"
   ]
  },
  {
   "cell_type": "code",
   "execution_count": 2,
   "metadata": {},
   "outputs": [],
   "source": [
    "st = LancasterStemmer()"
   ]
  },
  {
   "cell_type": "code",
   "execution_count": 3,
   "metadata": {},
   "outputs": [],
   "source": [
    "def clean_str(string):\n",
    "    \"\"\"\n",
    "    Tokenization/string cleaning for all datasets except for SST.\n",
    "    Original taken from https://github.com/yoonkim/CNN_sentence/blob/master/process_data.py\n",
    "    \"\"\"\n",
    "    string = re.sub(r\"[^A-Za-z0-9(),!?\\'\\`]\", \" \", string)\n",
    "    string = re.sub(r\"\\'s\", \" \", string)\n",
    "    string = re.sub(r\"\\'ve\", \" \", string)\n",
    "    string = re.sub(r\"n\\'t\", \" \", string)\n",
    "    string = re.sub(r\"n\\'s\", \" \", string)\n",
    "    string = re.sub(r\"\\'re\", \" \", string)\n",
    "    string = re.sub(r\"\\'d\", \" \", string)\n",
    "    string = re.sub(r\"\\'ll\", \" \", string)\n",
    "    string = re.sub(r\",\", \" \", string)\n",
    "    string = re.sub(r\"!\", \" \", string)\n",
    "    string = re.sub(r\"\\(\", \" \", string)\n",
    "    string = re.sub(r\"\\)\", \" \", string)\n",
    "    string = re.sub(r\"\\?\", \" \", string)\n",
    "    string = re.sub(r\"\\s{2,}\", \" \", string)\n",
    "    string = re.sub(r\"\\//?\", \" \", string)\n",
    "    string = re.sub(r\"\\d+\", \" \", string)\n",
    "    string = re.sub(r\"\\$\", \" \", string)\n",
    "    string = re.sub(r\"\\#\", \" \", string)\n",
    "    return string.strip().lower()"
   ]
  },
  {
   "cell_type": "code",
   "execution_count": 4,
   "metadata": {},
   "outputs": [],
   "source": [
    "def remove_stop(str):\n",
    "    stop = set(stopwords.words('english'))\n",
    "    lst = str.split()\n",
    "    lst = [i for i in lst if i not in stop]\n",
    "    return ' '.join(lst)\n",
    "\n",
    "def stem (str):\n",
    "    lst = str.split()\n",
    "    lst = [st.stem(x) for x in lst]\n",
    "    return ' '.join(lst)\n",
    "\n",
    "def remove_unwanted_words(str):\n",
    "    unwanted_words = [\"httpaddress\", \"usrid\", \"D\", \"dd\", \"rt\", \"amp\", \"am\", \"pm\", '``',\n",
    "                      \"''\", \"\", \"//\", \"\\\\\", \"\\\\'s\", \"\\\\?\", \"\\?\",\"http\",\"httpaddresshttpaddresst\", \"cohttpaddressek\",\n",
    "                      \"taksim\",\"gezi\", \"park\", \"direngeziparki\", \"occupygezi\", \"istanbul\", \"turkish\",\"turkey\",\n",
    "                      \"protest\",\"direngezipark\",\"direnankara\",\"geziparki\", \"protesters\", \"protests\", \"sat\", \"sun\", \"mon,\",\n",
    "                     \"tue\", \"wed\", \"thu\", \"fri\", \"jan\", \"feb\", \"mar\", \"apr\", \"may\", \"jun\", \"jul\", \"aug\", \"sep\", \"oct\", \"nov\", \"dec\"]\n",
    "    lst = str.split(\" \")\n",
    "    lst = [i for i in lst if i not in unwanted_words]\n",
    "    return ' '.join(lst)\n",
    "\n",
    "def toLower(str):\n",
    "    lst = str.split()\n",
    "    lst = [i.lower() for i in lst]\n",
    "    return ' '.join(lst)\n",
    "\n",
    "def word_len (str):\n",
    "    lst = str.split()\n",
    "    lst = [i for i in lst if len(i)>1 and len(i) <7]\n",
    "    return ' '.join(lst)\n",
    "\n",
    "def sent_len (str):\n",
    "    lst = str.split()\n",
    "    if len(lst)>=3:\n",
    "        return ' '.join(lst)"
   ]
  },
  {
   "cell_type": "code",
   "execution_count": 5,
   "metadata": {},
   "outputs": [],
   "source": [
    "def load_data_and_labels_shuffled(positive_data_file, negative_data_file):\n",
    "    \"\"\"\n",
    "    Loads MR polarity african_data from files, splits the african_data into words and generates labels.\n",
    "    Returns split sentences and labels.\n",
    "    \"\"\"\n",
    "    # Load african_data from files\n",
    "    positive_examples = list(open(positive_data_file, \"r\").readlines())\n",
    "    positive_examples = [s.strip() for s in positive_examples]\n",
    "    positive_examples = [remove_stop(item) for item in positive_examples]\n",
    "    #print(positive_examples[0])\n",
    "    positive_examples = [toLower(item) for item in positive_examples]\n",
    "    #rint(positive_examples[0])\n",
    "    positive_examples = [clean_str(sent) for sent in positive_examples]\n",
    "    #rint(positive_examples[0])\n",
    "    #positive_examples = [stem(item) for item in positive_examples]\n",
    "    #rint(positive_examples[0])\n",
    "    positive_examples = [remove_unwanted_words(item) for item in positive_examples]\n",
    "    positive_examples = [word_len(item) for item in positive_examples]\n",
    "    positive_examples = [sent_len(item) for item in positive_examples]\n",
    "    positive_examples = list(filter(None, positive_examples))\n",
    "    negative_examples = list(open(negative_data_file, \"r\").readlines())\n",
    "    negative_examples = [s.strip() for s in negative_examples]\n",
    "    negative_examples = [toLower(item) for item in negative_examples]\n",
    "    #print(negative_examples[0])\n",
    "    negative_examples = [remove_stop(item) for item in negative_examples]\n",
    "    #print(negative_examples[0])\n",
    "    negative_examples = [clean_str(sent) for sent in negative_examples]\n",
    "    #print(negative_examples[0])\n",
    "    #ngative_examples = [stem(sent) for sent in negative_examples]\n",
    "    #pint(negative_examples[0])\n",
    "    negative_examples = [remove_unwanted_words(item) for item in negative_examples]\n",
    "    negative_examples = [word_len(item) for item in negative_examples]\n",
    "    #print(negative_examples[0])\n",
    "    negative_examples = [sent_len(item) for item in negative_examples]\n",
    "\n",
    "    negative_examples = list(filter(None, negative_examples))\n",
    "\n",
    "    # Split by words\n",
    "    x_text = positive_examples + negative_examples\n",
    "    # x_text = [clean_str(sent) for sent in x_text]\n",
    "    # Generate labels\n",
    "    positive_labels = [1 for _ in positive_examples]\n",
    "    negative_labels = [0 for _ in negative_examples]\n",
    "    y = np.concatenate([positive_labels, negative_labels], 0)\n",
    "    return [x_text, y]"
   ]
  },
  {
   "cell_type": "code",
   "execution_count": null,
   "metadata": {},
   "outputs": [],
   "source": [
    "tweets_text, tweets_y = load_data_and_labels_shuffled('Data/Turkish_tweets_CF_results_09_05_2018_prccd_pos.txt', 'Data/Turkish_tweets_CF_results_09_05_2018_prccd_neg.txt')"
   ]
  },
  {
   "cell_type": "code",
   "execution_count": null,
   "metadata": {},
   "outputs": [],
   "source": [
    "# Setup vocabulary processor\n",
    "vocab_processor = learn.preprocessing.VocabularyProcessor(sentence_size , min_frequency=min_word_freq)\n",
    "\n",
    "# Have to fit transform to get length of unique words.\n",
    "vocab_processor.transform(tweets_text)\n",
    "embedding_size = len([x for x in vocab_processor.transform(tweets_text)])\n",
    "print(\"embedding size = \", embedding_size)"
   ]
  },
  {
   "cell_type": "code",
   "execution_count": null,
   "metadata": {},
   "outputs": [],
   "source": [
    "# Split up data set into train/test\n",
    "train_indices = np.random.choice(len(tweets_text), round(len(tweets_text) * 0.7), replace=False)\n",
    "test_indices = np.array(list(set(range(len(tweets_text))) - set(train_indices)))\n",
    "texts_train = [x for ix, x in enumerate(tweets_text) if ix in train_indices]\n",
    "texts_test = [x for ix, x in enumerate(tweets_text) if ix in test_indices]\n",
    "target_train = [x for ix, x in enumerate(tweets_y) if ix in train_indices]\n",
    "target_test = [x for ix, x in enumerate(tweets_y) if ix in test_indices]"
   ]
  },
  {
   "cell_type": "code",
   "execution_count": null,
   "metadata": {},
   "outputs": [],
   "source": [
    "# Process vocabulary\n",
    "texts_train = np.array(list(vocab_processor.fit_transform(texts_train)))\n",
    "texts_test = np.array(list(vocab_processor.transform(texts_test)))\n",
    "n_words = len(vocab_processor.vocabulary_)"
   ]
  },
  {
   "cell_type": "code",
   "execution_count": null,
   "metadata": {},
   "outputs": [],
   "source": [
    "print('Total words: %d' % n_words)\n",
    "\n",
    "print(\"train size\", len(texts_train))\n",
    "print(\"positive samples\", target_train.count([1]))\n",
    "print(\"negative samples\", target_train.count([0]))\n",
    "\n",
    "print(\"test size\", len(texts_test))\n",
    "print(\"positive samples\",  target_test.count([1]))\n",
    "print(\"negative samples\", target_test.count([0]))\n",
    "\n",
    "n_words = len(vocab_processor.vocabulary_)\n",
    "print('no. words', n_words)"
   ]
  },
  {
   "cell_type": "code",
   "execution_count": null,
   "metadata": {},
   "outputs": [],
   "source": [
    "#low level TF API\n",
    "import tensorflow as tf\n",
    "#creating hidden layers\n",
    "n_hidden1 = 300\n",
    "n_hidden2 = 100\n",
    "n_outputs = 10\n",
    "with tf.name_scope(\"dnn\"):\n",
    "    hidden1 = neuron_layer(X, n_hidden1, \"hidden1\", activation=\"relu\")\n",
    "    hidden2 = neuron_layer(hidden1, n_hidden2, \"hidden2\", activation=\"relu\")\n",
    "    logits = neuron_layer(hidden2, n_outputs, \"outputs\")"
   ]
  },
  {
   "cell_type": "code",
   "execution_count": null,
   "metadata": {},
   "outputs": [],
   "source": [
    "# softmax cost function: cross entropy\n",
    "with tf.name_scope(\"loss\"):\n",
    "    xentropy = tf.nn.sparse_softmax_cross_entropy_with_logits(labels=y, logits=logits)\n",
    "    loss = tf.reduce_mean(xentropy, name=\"loss\")"
   ]
  },
  {
   "cell_type": "code",
   "execution_count": null,
   "metadata": {},
   "outputs": [],
   "source": [
    "# prediction\n",
    "with tf.name_scope(\"prediction\"):\n",
    "    predction = tf.nn.softmax(d_logits)"
   ]
  },
  {
   "cell_type": "code",
   "execution_count": null,
   "metadata": {},
   "outputs": [],
   "source": [
    "#gradient descent optimization\n",
    "with tf.name_scope(\"train\"):\n",
    "    optimizer = tf.train.GradientDescentOptimizer(learning_rate=0.01)\n",
    "    training_op = optimizer.minimize(loss)"
   ]
  },
  {
   "cell_type": "code",
   "execution_count": null,
   "metadata": {},
   "outputs": [],
   "source": [
    "#the accuracy metric\n",
    "with tf.name_scope(\"evaluation\"):\n",
    "    correct = tf.nn.in_top_k(logits, y,1)\n",
    "    accuracy = tf.reduce_mean(tf.cast(correct,tf.float32))\n",
    "    # Prediction operation\n",
    "    _, label_auc = tf.metrics.auc(y_target, prediction)"
   ]
  },
  {
   "cell_type": "code",
   "execution_count": null,
   "metadata": {},
   "outputs": [],
   "source": [
    "init = [tf.global_variables_initializer(), tf.local_variables_initializer()]"
   ]
  },
  {
   "cell_type": "code",
   "execution_count": null,
   "metadata": {},
   "outputs": [],
   "source": [
    "n_epoches = 400\n",
    "batch_size = 50\n",
    "\n",
    "# model trining\n",
    "with tf.Session() as sess:\n",
    "    init.run()\n",
    "    for epoch in range(n_epoches):\n",
    "        for iteration in range(mnist.train.num_examples // batch_size):\n",
    "            X_batch, y_batch = mnist.train.next_batch(batch_size)\n",
    "            sess.run(training_op, feed_dict={X: X_batch, y: y_batch})\n",
    "        acc_train = accuracy.eval(feed_dict={X:X_batch, y:y_batch})\n",
    "        acc_test = accuracy.eval(feed_dict={X:mnist.test.images, y:mnist.test.labels})\n",
    "        print (epoch, \"train_accuracy:\", acc_train, \"test_accuracy:\", acc_test)\n"
   ]
  }
 ],
 "metadata": {
  "kernelspec": {
   "display_name": "Python 3",
   "language": "python",
   "name": "python3"
  },
  "language_info": {
   "codemirror_mode": {
    "name": "ipython",
    "version": 3
   },
   "file_extension": ".py",
   "mimetype": "text/x-python",
   "name": "python",
   "nbconvert_exporter": "python",
   "pygments_lexer": "ipython3",
   "version": "3.5.3"
  }
 },
 "nbformat": 4,
 "nbformat_minor": 2
}
